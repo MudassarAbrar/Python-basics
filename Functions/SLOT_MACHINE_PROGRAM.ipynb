{
  "nbformat": 4,
  "nbformat_minor": 0,
  "metadata": {
    "colab": {
      "provenance": [],
      "authorship_tag": "ABX9TyO/dnWZmsdYxeeaxA59Breu",
      "include_colab_link": true
    },
    "kernelspec": {
      "name": "python3",
      "display_name": "Python 3"
    },
    "language_info": {
      "name": "python"
    }
  },
  "cells": [
    {
      "cell_type": "markdown",
      "metadata": {
        "id": "view-in-github",
        "colab_type": "text"
      },
      "source": [
        "<a href=\"https://colab.research.google.com/github/MudassarAbrar/Python-basics/blob/main/Functions/SLOT_MACHINE_PROGRAM.ipynb\" target=\"_parent\"><img src=\"https://colab.research.google.com/assets/colab-badge.svg\" alt=\"Open In Colab\"/></a>"
      ]
    },
    {
      "cell_type": "code",
      "execution_count": null,
      "metadata": {
        "colab": {
          "base_uri": "https://localhost:8080/"
        },
        "id": "kLwKwLnwj9Vv",
        "outputId": "b7af04a9-47f0-47f7-c99f-db1b36b37203"
      },
      "outputs": [
        {
          "output_type": "stream",
          "name": "stdout",
          "text": [
            "-----------------------------\n",
            "Welcome to the Slot Machine!\n",
            "-----------------------------\n",
            "\n",
            "Your balance: $100\n"
          ]
        }
      ],
      "source": [
        "import random#RANDOM MODULE TO MAKE RANDOM CHOICES FROM THE REELS\n",
        "\n",
        "# Spins the reels by randomly selecting 3 symbols\n",
        "def spin_reels(symbols):#IN THIS FUNCTION RANDOM FUNC LOOPS THREE TIMES TO SELECT RANDOM CHOICE FROM THE REELS AND RETURN THAT CHOICE\n",
        "    return [random.choice(symbols) for _ in range(3)]#THIS IS A LIST COMPRESSION IN WHICH RANDOM.CHICE(SYMBOL) IS THE STTAMENT THAT EXECUTE EACH TIME THE LOOP ITERATE\n",
        "    #THE \"_\"SYMBOLS IS JUST A PLACEHOLDER TO LOOP THROUGH THE REELS\n",
        "\n",
        "# Checks winnings based on reel combinations and calculates payout\n",
        "def check_winnings(reels, bet):#THIS FUNCTIONS HAS TWO ARGUMENTS PASSING ONE IS REELS AND OTHER IS BET\n",
        "    # Define winning combinations and their multipliers\n",
        "    '''\n",
        "     This payout is a dictionary in which i have made the winning cominations as a tuple key\n",
        "     i chose tuples for keys because keys cant be mutable and tuples are also immutable\n",
        "     corresponding to each key here is the value of the winning amount\n",
        "    '''\n",
        "    payouts = {\n",
        "        (\"🍒\", \"🍒\", \"🍒\"): 10,   # 10x the bet for 3 cherries\n",
        "        (\"7\", \"7\", \"7\"): 20,     # 20x the bet for 3 sevens\n",
        "        (\"BAR\", \"BAR\", \"BAR\"): 50, # 50x the bet for 3 bars\n",
        "        (\"🍋\", \"🍋\", \"🍋\"): 5,    # 5x the bet for 3 lemons\n",
        "        (\"🍉\", \"🍉\", \"🍉\"): 8,    # 8x the bet for 3 watermelons\n",
        "    }\n",
        "\n",
        "    # Check if the reels match a winning combination\n",
        "    '''\n",
        "    reels are first converted into tuples and is matched to every key in dictionary(payout)\n",
        "     adn if it matches it returns the winning amount!!!\n",
        "    '''\n",
        "    if tuple(reels) in payouts:\n",
        "        return bet * payouts[tuple(reels)]\n",
        "    return 0  # No winning combination\n",
        "    #if combination not matches then it returns 0 so that func doesn't break\n",
        "# Main slot machine program\n",
        "def slot_machine():\n",
        "    balance = 100  # Starting balance for the player\n",
        "    symbols = [\"🍒\", \"7\", \"BAR\", \"🍋\", \"🍉\"]  # Symbols available on the reels\n",
        "    print(\"-----------------------------\")\n",
        "    print(\"Welcome to the Slot Machine!\")\n",
        "    print(\"-----------------------------\")\n",
        "    while balance > 0:  # Continue as long as the user has money\n",
        "        print(f\"\\nYour balance: ${balance}\")\n",
        "        user_input = input(\"Enter your bet amount: \")\n",
        "\n",
        "        # Check if the input is a valid number\n",
        "        if user_input.isdigit():  # This ensures the input contains only digits\n",
        "            bet = int(user_input)\n",
        "\n",
        "            # Check if the bet is within the valid range\n",
        "            if 0 < bet <= balance:\n",
        "                # Valid bet, proceed with the game logic\n",
        "                break  # Exit the loop if bet is valid\n",
        "            else:\n",
        "                print(\"Invalid bet amount. Please enter a number greater than 0 and less than or equal to your balance.\")\n",
        "        else:\n",
        "            print(\"Please enter a valid number.\")\n",
        "        '''\n",
        "           facts about continue\n",
        "           Key Points about continue\n",
        "           Purpose:\n",
        "\n",
        "Skips the remaining code in the loop for the current iteration.\n",
        "Immediately jumps to the next iteration of the loop.\n",
        "Where to Use:\n",
        "When you want to avoid executing certain parts of the loop body based on a condition.'''\n",
        "        # Spin the reels\n",
        "        reels = spin_reels(symbols)\n",
        "        print(\"Spinning...\")\n",
        "        print(\" | \".join(reels))  # Display the symbols\n",
        "\n",
        "        # Check for winnings\n",
        "        winnings = check_winnings(reels, bet)\n",
        "        if winnings > 0:\n",
        "            print(f\"Congratulations! You won ${winnings}\")\n",
        "            balance += winnings\n",
        "        else:\n",
        "            print(\"You lost!\")\n",
        "            balance -= bet\n",
        "\n",
        "        # Check if the user wants to play again\n",
        "        play_again = input(\"Do you want to play again? (yes/no): \").lower()\n",
        "        if play_again != \"yes\":\n",
        "            break\n",
        "\n",
        "    print(f\"Game over! Your final balance is ${balance}\")\n",
        "\n",
        "# Entry point of the program\n",
        "if __name__ == \"__main__\":\n",
        "    slot_machine()"
      ]
    }
  ]
}