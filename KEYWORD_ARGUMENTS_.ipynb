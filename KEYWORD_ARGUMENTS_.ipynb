{
  "nbformat": 4,
  "nbformat_minor": 0,
  "metadata": {
    "colab": {
      "provenance": [],
      "authorship_tag": "ABX9TyNKJKFPElky4N1kQlGxrHG+",
      "include_colab_link": true
    },
    "kernelspec": {
      "name": "python3",
      "display_name": "Python 3"
    },
    "language_info": {
      "name": "python"
    }
  },
  "cells": [
    {
      "cell_type": "markdown",
      "metadata": {
        "id": "view-in-github",
        "colab_type": "text"
      },
      "source": [
        "<a href=\"https://colab.research.google.com/github/MudassarAbrar/Python-basics/blob/main/KEYWORD_ARGUMENTS_.ipynb\" target=\"_parent\"><img src=\"https://colab.research.google.com/assets/colab-badge.svg\" alt=\"Open In Colab\"/></a>"
      ]
    },
    {
      "cell_type": "code",
      "source": [
        "#keyword arguments basically add the keyword in te fucntion call time like\n",
        "def hello(greetings,title,first,last):\n",
        " print(f\"{greetings} {title} {first} {last}\")\n",
        "print(hello(\"hello\",last=\"faisal\",title=\"motay\",first=\"hammad\"))#here i changed the psotion of the arguments but still i mentioned keyword or the placed holders that i used\n",
        "#in the def of the fucntion to related them\n",
        "#also the order of the postional arguments is first followed by  the default argument you cant right key word argument first and positoonal in the last"
      ],
      "metadata": {
        "colab": {
          "base_uri": "https://localhost:8080/"
        },
        "id": "yWCa6b7jZYn-",
        "outputId": "abf5b5db-9976-43d1-96b0-5551631581c8"
      },
      "execution_count": 5,
      "outputs": [
        {
          "output_type": "stream",
          "name": "stdout",
          "text": [
            "hello motay hammad faisal\n",
            "None\n"
          ]
        }
      ]
    }
  ]
}