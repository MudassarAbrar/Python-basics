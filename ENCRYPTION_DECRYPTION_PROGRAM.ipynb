{
  "nbformat": 4,
  "nbformat_minor": 0,
  "metadata": {
    "colab": {
      "provenance": [],
      "authorship_tag": "ABX9TyMQo6AO62026y8vuNn7XTrV",
      "include_colab_link": true
    },
    "kernelspec": {
      "name": "python3",
      "display_name": "Python 3"
    },
    "language_info": {
      "name": "python"
    }
  },
  "cells": [
    {
      "cell_type": "markdown",
      "metadata": {
        "id": "view-in-github",
        "colab_type": "text"
      },
      "source": [
        "<a href=\"https://colab.research.google.com/github/MudassarAbrar/Python-basics/blob/main/ENCRYPTION_DECRYPTION_PROGRAM.ipynb\" target=\"_parent\"><img src=\"https://colab.research.google.com/assets/colab-badge.svg\" alt=\"Open In Colab\"/></a>"
      ]
    },
    {
      "cell_type": "code",
      "execution_count": 1,
      "metadata": {
        "colab": {
          "base_uri": "https://localhost:8080/"
        },
        "id": "ATzAST23AZYs",
        "outputId": "b40b49e2-e53b-4641-bfe6-e174400dff87"
      },
      "outputs": [
        {
          "output_type": "stream",
          "name": "stdout",
          "text": [
            "ENTER THE DATA YOU WANT TO ENCRYPT: I am Mudassir Abrar\n",
            "Encrypted Message: *R\\~RQyJ\\nno&R9S&\\&\n",
            "ENTER THE MESSAGE TO DECRYPT: *R\\~RQyJ\\nno&R9S&\\&\n",
            "Decrypted Message: I am Mudassir Abrar\n"
          ]
        }
      ],
      "source": [
        "import random  # To create a random sequence\n",
        "import string  # To use string methods\n",
        "\n",
        "# Create a long string containing almost every character\n",
        "char_string = \" \" + string.punctuation + string.ascii_letters + string.digits\n",
        "char_string = list(char_string)  # Convert string to a list for indexing\n",
        "\n",
        "# Create a copy of the original char_string and shuffle it\n",
        "copy_string = char_string.copy()\n",
        "random.shuffle(copy_string)  # Shuffle the copy for the encryption mapping\n",
        "\n",
        "# ENCRYPTED MESSAGE\n",
        "user_input = input(\"ENTER THE DATA YOU WANT TO ENCRYPT: \")\n",
        "encrypted_message = \"\"\n",
        "for char in user_input:\n",
        "    if char in char_string:\n",
        "        index = char_string.index(char)  # Find the index of the character in char_string\n",
        "        encrypted_message += copy_string[index]  # Append the corresponding character from copy_string\n",
        "    else:\n",
        "        encrypted_message += char  # Keep characters not in char_string unchanged\n",
        "print(f\"Encrypted Message: {encrypted_message}\")\n",
        "\n",
        "# DECRYPTED MESSAGE\n",
        "user_input1 = input(\"ENTER THE MESSAGE TO DECRYPT: \")\n",
        "decrypted_message = \"\"\n",
        "for char in user_input1:\n",
        "    if char in copy_string:\n",
        "        index = copy_string.index(char)  # Find the index of the character in copy_string\n",
        "        decrypted_message += char_string[index]  # Append the corresponding character from char_string\n",
        "    else:\n",
        "        decrypted_message += char  # Keep characters not in copy_string unchanged\n",
        "print(f\"Decrypted Message: {decrypted_message}\")\n"
      ]
    }
  ]
}