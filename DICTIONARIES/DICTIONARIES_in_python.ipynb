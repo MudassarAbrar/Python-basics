{
  "nbformat": 4,
  "nbformat_minor": 0,
  "metadata": {
    "colab": {
      "provenance": [],
      "authorship_tag": "ABX9TyPPN8tlGgJbZH+bzm2Z0JrM",
      "include_colab_link": true
    },
    "kernelspec": {
      "name": "python3",
      "display_name": "Python 3"
    },
    "language_info": {
      "name": "python"
    }
  },
  "cells": [
    {
      "cell_type": "markdown",
      "metadata": {
        "id": "view-in-github",
        "colab_type": "text"
      },
      "source": [
        "<a href=\"https://colab.research.google.com/github/MudassarAbrar/Python-basics/blob/main/DICTIONARIES/DICTIONARIES_in_python.ipynb\" target=\"_parent\"><img src=\"https://colab.research.google.com/assets/colab-badge.svg\" alt=\"Open In Colab\"/></a>"
      ]
    },
    {
      "cell_type": "code",
      "execution_count": null,
      "metadata": {
        "colab": {
          "base_uri": "https://localhost:8080/"
        },
        "id": "YX2qCWHB5zpC",
        "outputId": "993f8425-a786-4b7b-e2bb-4fe53528d8e9"
      },
      "outputs": [
        {
          "output_type": "stream",
          "name": "stdout",
          "text": [
            "country\n",
            "population\n",
            "subcontinent\n",
            "religion\n"
          ]
        }
      ],
      "source": [
        "#like real life dictionaries we also have dictionaires in python\n",
        "#in dictionaries we have a key and a value written as {key:value}\n",
        "#every key corresponds a values like in real life dictionary every key word has a meaning written corresponding to it\n",
        "#they are un changeable\n",
        "dict_example={\"country\":\"Pakistan\"\n",
        "             ,\"population\":\"20-million\"\n",
        "             ,\"subcontinent\":\"asia\"\n",
        "             ,\"religion\":\"islam\"}\n",
        "for key in dict_example.keys():\n",
        "  print(key)\n",
        "#this mehtod using key prints all the keys of the dictionary"
      ]
    },
    {
      "cell_type": "code",
      "source": [
        "dict_example={\"country\":\"Pakistan\"\n",
        "             ,\"population\":\"20-million\"\n",
        "             ,\"subcontinent\":\"asia\"\n",
        "             ,\"religion\":\"islam\"}\n",
        "for value in dict_example.values():\n",
        "  print(value)#this  method prints all the values corresponding to all the keys"
      ],
      "metadata": {
        "colab": {
          "base_uri": "https://localhost:8080/"
        },
        "id": "eZSgMa707RpY",
        "outputId": "34750e39-6cc7-4162-8e6f-d31f6d3656ab"
      },
      "execution_count": null,
      "outputs": [
        {
          "output_type": "stream",
          "name": "stdout",
          "text": [
            "Pakistan\n",
            "20-million\n",
            "asia\n",
            "islam\n"
          ]
        }
      ]
    },
    {
      "cell_type": "code",
      "source": [
        "dict_example={\"country\":\"Pakistan\"\n",
        "             ,\"population\":\"20-million\"\n",
        "             ,\"subcontinent\":\"asia\"\n",
        "             ,\"religion\":\"islam\"}\n",
        "for item in dict_example.items():\n",
        "  print(item)\n",
        "  #this method prints all the keys and the avlues and it looks like a 2d list consisting of tuples"
      ],
      "metadata": {
        "colab": {
          "base_uri": "https://localhost:8080/"
        },
        "id": "fivv_CSN7gbZ",
        "outputId": "891d27aa-9057-4ea3-e11d-a65741ecaef8"
      },
      "execution_count": null,
      "outputs": [
        {
          "output_type": "stream",
          "name": "stdout",
          "text": [
            "('country', 'Pakistan')\n",
            "('population', '20-million')\n",
            "('subcontinent', 'asia')\n",
            "('religion', 'islam')\n"
          ]
        }
      ]
    },
    {
      "cell_type": "code",
      "source": [
        "\n",
        "dict_example={\"country\":\"Pakistan\"\n",
        "             ,\"population\":\"20-million\"\n",
        "             ,\"subcontinent\":\"asia\"\n",
        "             ,\"religion\":\"islam\"}\n",
        "dict_example.update({\"capital\":\"Islamabad\"})\n",
        "#this adds the new key nd values e.g same as appened in lists\n",
        "dict_example.update({\"population\":\"22_million\"})\n",
        "#it aslo updates the existing values of the existing keys\n",
        "\n",
        "for item in dict_example.items():\n",
        "  print(item)"
      ],
      "metadata": {
        "colab": {
          "base_uri": "https://localhost:8080/"
        },
        "id": "S0jdRPSR8fz0",
        "outputId": "e8ce1b89-9d40-4369-db40-949c89545cbd"
      },
      "execution_count": null,
      "outputs": [
        {
          "output_type": "stream",
          "name": "stdout",
          "text": [
            "('country', 'Pakistan')\n",
            "('population', '22_million')\n",
            "('subcontinent', 'asia')\n",
            "('religion', 'islam')\n",
            "('capital', 'Islamabad')\n"
          ]
        }
      ]
    },
    {
      "cell_type": "code",
      "source": [
        "#we can also get values corressponding to specific key by using get fucntion\n",
        "dict_example.get(\"population\")"
      ],
      "metadata": {
        "colab": {
          "base_uri": "https://localhost:8080/",
          "height": 35
        },
        "id": "acSwBwROEbzm",
        "outputId": "4942f8b1-223e-4d0d-b253-de11fed3a7fd"
      },
      "execution_count": null,
      "outputs": [
        {
          "output_type": "execute_result",
          "data": {
            "text/plain": [
              "'22_million'"
            ],
            "application/vnd.google.colaboratory.intrinsic+json": {
              "type": "string"
            }
          },
          "metadata": {},
          "execution_count": 17
        }
      ]
    },
    {
      "cell_type": "code",
      "source": [
        "#what if we search a key that doest exits\n",
        "print(dict_example.get(\"people\"))\n",
        "\n",
        "#it returns none"
      ],
      "metadata": {
        "colab": {
          "base_uri": "https://localhost:8080/"
        },
        "id": "2sltGgoIFEcC",
        "outputId": "8d268cad-6185-474a-c8b0-4cc20726f8f6"
      },
      "execution_count": null,
      "outputs": [
        {
          "output_type": "stream",
          "name": "stdout",
          "text": [
            "None\n"
          ]
        }
      ]
    },
    {
      "cell_type": "code",
      "source": [
        "#we can use if statements to get desired output\n",
        "if dict_example.get(\"people\"):\n",
        "  print(\"searched key  exist\")#this statement executes when the conditional staement returns true\n",
        "else:\n",
        "  print(\"searchd key doesnt exist\")#this statement exists when the conditional statement returns false"
      ],
      "metadata": {
        "colab": {
          "base_uri": "https://localhost:8080/"
        },
        "id": "4e-Z7t8DFQGB",
        "outputId": "914d1c77-4a84-4f40-bf86-f84d5ee45a70"
      },
      "execution_count": null,
      "outputs": [
        {
          "output_type": "stream",
          "name": "stdout",
          "text": [
            "searchd key doesnt exist\n"
          ]
        }
      ]
    },
    {
      "cell_type": "code",
      "source": [
        "#now what if we want to remove the some key from the dic\n",
        "dict_example={\"country\":\"Pakistan\"\n",
        "             ,\"population\":\"20-million\"\n",
        "             ,\"subcontinent\":\"asia\"\n",
        "             ,\"religion\":\"islam\"}\n",
        "dict_example.pop(\"country\")\n",
        "print(dict_example)\n",
        "#country key and its value pakistan has been removed"
      ],
      "metadata": {
        "colab": {
          "base_uri": "https://localhost:8080/"
        },
        "id": "EFU9v89iF3Ca",
        "outputId": "e7b67062-be2f-41a1-aa4b-400aa3cbea45"
      },
      "execution_count": null,
      "outputs": [
        {
          "output_type": "stream",
          "name": "stdout",
          "text": [
            "{'population': '20-million', 'subcontinent': 'asia', 'religion': 'islam'}\n"
          ]
        }
      ]
    },
    {
      "cell_type": "code",
      "source": [
        "\n",
        "dict_example.popitem()#this removes the last key and its value\n",
        "print(dict_example)"
      ],
      "metadata": {
        "colab": {
          "base_uri": "https://localhost:8080/"
        },
        "id": "dm6d9YoUGbwT",
        "outputId": "51277b5a-389b-42be-f9cd-8b8372f03347"
      },
      "execution_count": null,
      "outputs": [
        {
          "output_type": "stream",
          "name": "stdout",
          "text": [
            "{'population': '20-million', 'subcontinent': 'asia'}\n"
          ]
        }
      ]
    },
    {
      "cell_type": "code",
      "source": [
        "#PROJECT\n",
        "#THIS PROJECTS IS A CONCESSION STAND PROGRAM(THEATER POPCORN/EATABLES COUNTER SORT OF THING)\n",
        "menu={\"POPCORN\":250,\"COLD DRINK\":200,\"ICE-CREAM\":300,\"SODA\":400,\"LOLLIPOPS\":50,\"CANDY\":40,\"BURGERS\":500}\n",
        "cart=[]#a list to append user selected items\n",
        "total=0\n",
        "print(\"-------------MENU------------\")\n",
        "print(\"     ITEMS         PRICES\")\n",
        "print(\"-----------------------------\")\n",
        "for keys,values in menu.items():\n",
        "  print(f\"     {keys:15}{values}\")\n",
        "print(\"-----------------------------\")\n",
        "\n",
        "while True:#its a loop that will only brreaks when the user enetr the q\n",
        " selected_item=input(\"SELECT FROM THE MENEU OR ' ENTER Q TO EXIST \").upper()\n",
        " if selected_item==\"Q\":\n",
        "  break\n",
        " elif menu.get(selected_item) is not None:\n",
        "  print(f\"{selected_item} added to cart\")\n",
        "  cart.append(selected_item)#append the sleected item into the cart\n",
        "  total+=menu.get(selected_item)#this totals the value of all the selected items\n",
        "print(\"---------YOUR CART----------\")\n",
        "for x in cart:\n",
        "  print(x)\n",
        "print(\"-----------------------------\")\n",
        "print(f\"---------YOUR BILL----------\")\n",
        "print(f\"YOUR TOTAL IS PKR {total}\")\n",
        "print(\"-----------------------------\")\n"
      ],
      "metadata": {
        "colab": {
          "base_uri": "https://localhost:8080/"
        },
        "id": "rwFn4YfCG0HY",
        "outputId": "ff020463-2970-42e4-a653-d7ad472dbc5a"
      },
      "execution_count": 64,
      "outputs": [
        {
          "output_type": "stream",
          "name": "stdout",
          "text": [
            "-------------MENU------------\n",
            "     ITEMS         PRICES\n",
            "-----------------------------\n",
            "     POPCORN        250\n",
            "     COLD DRINK     200\n",
            "     ICE-CREAM      300\n",
            "     SODA           400\n",
            "     LOLLIPOPS      50\n",
            "     CANDY          40\n",
            "     BURGERS        500\n",
            "-----------------------------\n",
            "SELECT FROM THE MENEU OR ' ENTER Q TO EXIST popcorn\n",
            "POPCORN added to cart\n",
            "SELECT FROM THE MENEU OR ' ENTER Q TO EXIST candy\n",
            "CANDY added to cart\n",
            "SELECT FROM THE MENEU OR ' ENTER Q TO EXIST banan\n",
            "SELECT FROM THE MENEU OR ' ENTER Q TO EXIST cold drink\n",
            "COLD DRINK added to cart\n",
            "SELECT FROM THE MENEU OR ' ENTER Q TO EXIST burger\n",
            "SELECT FROM THE MENEU OR ' ENTER Q TO EXIST burgers\n",
            "BURGERS added to cart\n",
            "SELECT FROM THE MENEU OR ' ENTER Q TO EXIST q\n",
            "---------YOUR CART----------\n",
            "POPCORN\n",
            "CANDY\n",
            "COLD DRINK\n",
            "BURGERS\n",
            "-----------------------------\n",
            "---------YOUR BILL----------\n",
            "YOUR TOTAL IS PKR 990\n",
            "-----------------------------\n"
          ]
        }
      ]
    }
  ]
}