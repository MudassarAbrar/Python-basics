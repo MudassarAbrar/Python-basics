{
  "nbformat": 4,
  "nbformat_minor": 0,
  "metadata": {
    "colab": {
      "provenance": [],
      "authorship_tag": "ABX9TyOqIX11IeSmr7M1IuRMPzfQ",
      "include_colab_link": true
    },
    "kernelspec": {
      "name": "python3",
      "display_name": "Python 3"
    },
    "language_info": {
      "name": "python"
    }
  },
  "cells": [
    {
      "cell_type": "markdown",
      "metadata": {
        "id": "view-in-github",
        "colab_type": "text"
      },
      "source": [
        "<a href=\"https://colab.research.google.com/github/MudassarAbrar/Python-basics/blob/main/DICTIONARIES/CONCESSION_STAND_PROJECT.ipynb\" target=\"_parent\"><img src=\"https://colab.research.google.com/assets/colab-badge.svg\" alt=\"Open In Colab\"/></a>"
      ]
    },
    {
      "cell_type": "code",
      "source": [
        "#PROJECT\n",
        "#THIS PROJECTS IS A CONCESSION STAND PROGRAM(THEATER POPCORN/EATABLES COUNTER SORT OF THING)\n",
        "menu={\"POPCORN\":250,\"COLD DRINK\":200,\"ICE-CREAM\":300,\"SODA\":400,\"LOLLIPOPS\":50,\"CANDY\":40,\"BURGERS\":500}\n",
        "cart=[]#a list to append user selected items\n",
        "total=0\n",
        "print(\"-------------MENU------------\")\n",
        "print(\"     ITEMS         PRICES\")\n",
        "print(\"-----------------------------\")\n",
        "for keys,values in menu.items():\n",
        "  print(f\"     {keys:15}{values}\")\n",
        "print(\"-----------------------------\")\n",
        "\n",
        "while True:#its a loop that will only brreaks when the user enetr the q\n",
        " selected_item=input(\"SELECT FROM THE MENEU OR ' ENTER Q TO EXIST \").upper()\n",
        " if selected_item==\"Q\":\n",
        "  break\n",
        " elif menu.get(selected_item) is not None:\n",
        "  print(f\"{selected_item} added to cart\")\n",
        "  cart.append(selected_item)#append the sleected item into the cart\n",
        "  total+=menu.get(selected_item)#this totals the value of all the selected items\n",
        "print(\"---------YOUR CART----------\")\n",
        "for x in cart:\n",
        "  print(x)\n",
        "print(\"-----------------------------\")\n",
        "print(f\"---------YOUR BILL----------\")\n",
        "print(f\"YOUR TOTAL IS PKR {total}\")\n",
        "print(\"-----------------------------\")\n"
      ],
      "metadata": {
        "id": "w2EAvbF6B6UH"
      },
      "execution_count": null,
      "outputs": []
    }
  ]
}