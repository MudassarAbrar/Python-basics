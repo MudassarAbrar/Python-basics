{
  "nbformat": 4,
  "nbformat_minor": 0,
  "metadata": {
    "colab": {
      "provenance": [],
      "authorship_tag": "ABX9TyNXuKEv9uZBRJJzgXvApMsU",
      "include_colab_link": true
    },
    "kernelspec": {
      "name": "python3",
      "display_name": "Python 3"
    },
    "language_info": {
      "name": "python"
    }
  },
  "cells": [
    {
      "cell_type": "markdown",
      "metadata": {
        "id": "view-in-github",
        "colab_type": "text"
      },
      "source": [
        "<a href=\"https://colab.research.google.com/github/MudassarAbrar/Python-basics/blob/main/RANDOM/ROCK_PAPER_SCISSOR_GAME.ipynb\" target=\"_parent\"><img src=\"https://colab.research.google.com/assets/colab-badge.svg\" alt=\"Open In Colab\"/></a>"
      ]
    },
    {
      "cell_type": "code",
      "source": [
        "#this program uses the random.CHOICE method to shuffle the predefined tuple\n",
        "import random\n",
        "content=(\"ROCK\",\"PAPER\",\"SCISSOR\")\n",
        "print(\"----------------Welcome to the GAME-------------------\")\n",
        "running=True\n",
        "playing=True\n",
        "while playing:\n",
        "        while running:\n",
        "          person=input(\"Enter your choice: \").upper()\n",
        "          if person not in content:\n",
        "           print(\"invalid input please try again\")\n",
        "          else:\n",
        "           break\n",
        "\n",
        "        print(\"--------------------------------------------\")\n",
        "        computer=random.choice(content)\n",
        "        print(f\"PERSON: {person}\")\n",
        "        print(f\"COMPUTER: {computer}\")\n",
        "        print(\"--------------------------------------------\")\n",
        "        if person==computer:\n",
        "            print(\"\\t\\tDRAW\")\n",
        "        elif person==\"ROCK\" and computer==\"SCISSOR\":\n",
        "            print(\"\\t\\tPERSON WINS\")\n",
        "        elif person==\"PAPER\" and computer==\"ROCK\":\n",
        "            print(\"\\t\\tPERSON WINS\")\n",
        "        elif person==\"SCISSOR\" and computer==\"PAPER\":\n",
        "            print(\"\\t\\tPERSON WINS\")\n",
        "        else:\n",
        "            print(\"\\t\\tCOMPUTER WINS\")\n",
        "        print(\"--------------------------------------------\")\n",
        "\n",
        "        if not input(\"DO YOU WANT TO PLAY AGAIN(Y/N)\").lower() ==\"y\":\n",
        "          playing=False\n",
        "          print(\"thanks for playing\")"
      ],
      "metadata": {
        "colab": {
          "base_uri": "https://localhost:8080/"
        },
        "id": "ExZMaA4LOhzm",
        "outputId": "4666150a-b824-466d-b739-b40f5d849fd4"
      },
      "execution_count": null,
      "outputs": [
        {
          "output_type": "stream",
          "name": "stdout",
          "text": [
            "----------------Welcome to the GAME-------------------\n",
            "Enter your choice: paper\n",
            "--------------------------------------------\n",
            "PERSON: PAPER\n",
            "COMPUTER: SCISSOR\n",
            "--------------------------------------------\n",
            "\t\tCOMPUTER WINS\n",
            "--------------------------------------------\n",
            "DO YOU WANT TO PLAY AGAIN(Y/N)y\n",
            "Enter your choice: paper\n",
            "--------------------------------------------\n",
            "PERSON: PAPER\n",
            "COMPUTER: SCISSOR\n",
            "--------------------------------------------\n",
            "\t\tCOMPUTER WINS\n",
            "--------------------------------------------\n",
            "DO YOU WANT TO PLAY AGAIN(Y/N)y\n",
            "Enter your choice: koko\n",
            "invalid input please try again\n",
            "Enter your choice: okok\n",
            "invalid input please try again\n",
            "Enter your choice: paper\n",
            "--------------------------------------------\n",
            "PERSON: PAPER\n",
            "COMPUTER: ROCK\n",
            "--------------------------------------------\n",
            "\t\tPERSON WINS\n",
            "--------------------------------------------\n"
          ]
        }
      ]
    }
  ]
}