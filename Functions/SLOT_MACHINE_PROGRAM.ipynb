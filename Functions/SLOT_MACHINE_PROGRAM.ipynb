{
  "nbformat": 4,
  "nbformat_minor": 0,
  "metadata": {
    "colab": {
      "provenance": [],
      "authorship_tag": "ABX9TyMIr32VuTsxVSw5/Fe/44B9",
      "include_colab_link": true
    },
    "kernelspec": {
      "name": "python3",
      "display_name": "Python 3"
    },
    "language_info": {
      "name": "python"
    }
  },
  "cells": [
    {
      "cell_type": "markdown",
      "metadata": {
        "id": "view-in-github",
        "colab_type": "text"
      },
      "source": [
        "<a href=\"https://colab.research.google.com/github/MudassarAbrar/Python-basics/blob/main/Functions/SLOT_MACHINE_PROGRAM.ipynb\" target=\"_parent\"><img src=\"https://colab.research.google.com/assets/colab-badge.svg\" alt=\"Open In Colab\"/></a>"
      ]
    },
    {
      "cell_type": "code",
      "execution_count": 6,
      "metadata": {
        "colab": {
          "base_uri": "https://localhost:8080/"
        },
        "id": "kLwKwLnwj9Vv",
        "outputId": "2b00f71b-7f56-44b6-a315-b84c352d8c78"
      },
      "outputs": [
        {
          "output_type": "stream",
          "name": "stdout",
          "text": [
            "-----------------------------\n",
            "Welcome to the Slot Machine!\n",
            "-----------------------------\n",
            "\n",
            "Your balance: $100\n",
            "Enter your bet amount (or type 'exit' to quit): 7\n",
            "Spinning...\n",
            "🍒 | 7 | 🍉\n",
            "You lost!\n",
            "\n",
            "Your balance: $93\n",
            "Enter your bet amount (or type 'exit' to quit): 8\n",
            "Spinning...\n",
            "BAR | 🍋 | 🍒\n",
            "You lost!\n",
            "\n",
            "Your balance: $85\n",
            "Enter your bet amount (or type 'exit' to quit): 1\n",
            "Spinning...\n",
            "7 | 🍒 | 7\n",
            "You lost!\n",
            "\n",
            "Your balance: $84\n",
            "Enter your bet amount (or type 'exit' to quit): 1\n",
            "Spinning...\n",
            "🍉 | BAR | 🍒\n",
            "You lost!\n",
            "\n",
            "Your balance: $83\n",
            "Enter your bet amount (or type 'exit' to quit): 1\n",
            "Spinning...\n",
            "🍉 | 7 | BAR\n",
            "You lost!\n",
            "\n",
            "Your balance: $82\n",
            "Enter your bet amount (or type 'exit' to quit): 1\n",
            "Spinning...\n",
            "7 | 🍋 | 7\n",
            "You lost!\n",
            "\n",
            "Your balance: $81\n",
            "Enter your bet amount (or type 'exit' to quit): 1\n",
            "Spinning...\n",
            "🍉 | 🍉 | 🍒\n",
            "You lost!\n",
            "\n",
            "Your balance: $80\n",
            "Enter your bet amount (or type 'exit' to quit): exit\n",
            "Game over! Your final balance is $80\n"
          ]
        }
      ],
      "source": [
        "import random\n",
        "import time\n",
        "\n",
        "# Spins the reels by randomly selecting 3 symbols\n",
        "def spin_reels(symbols):\n",
        "    return [random.choice(symbols) for _ in range(3)]\n",
        "\n",
        "# Checks winnings based on reel combinations and calculates payout\n",
        "def check_winnings(reels, bet):\n",
        "    payouts = {\n",
        "        (\"🍒\", \"🍒\", \"🍒\"): 10,\n",
        "        (\"7\", \"7\", \"7\"): 20,\n",
        "        (\"BAR\", \"BAR\", \"BAR\"): 50,\n",
        "        (\"🍋\", \"🍋\", \"🍋\"): 5,\n",
        "        (\"🍉\", \"🍉\", \"🍉\"): 8,\n",
        "    }\n",
        "    return bet * payouts.get(tuple(reels), 0)\n",
        "\n",
        "# Main slot machine program\n",
        "def slot_machine():\n",
        "    balance = 100\n",
        "    symbols = [\"🍒\", \"7\", \"BAR\", \"🍋\", \"🍉\"]\n",
        "    print(\"-----------------------------\")\n",
        "    print(\"Welcome to the Slot Machine!\")\n",
        "    print(\"-----------------------------\")\n",
        "\n",
        "    while balance > 0:\n",
        "        print(f\"\\nYour balance: ${balance}\")\n",
        "        user_input = input(\"Enter your bet amount (or type 'exit' to quit): \").strip()\n",
        "\n",
        "        if user_input.lower() == \"exit\":\n",
        "            break  # Exit the game\n",
        "\n",
        "        if user_input.isdigit():\n",
        "            bet = int(user_input)\n",
        "            if 0 < bet <= balance:\n",
        "                # Spin the reels\n",
        "                reels = spin_reels(symbols)\n",
        "                print(\"Spinning...\")\n",
        "                time.sleep(1)  # Adds suspense\n",
        "                print(\" | \".join(reels))\n",
        "\n",
        "                # Check for winnings\n",
        "                winnings = check_winnings(reels, bet)\n",
        "                if winnings > 0:\n",
        "                    print(f\"Congratulations! You won ${winnings}\")\n",
        "                    balance += winnings\n",
        "                else:\n",
        "                    print(\"You lost!\")\n",
        "                    balance -= bet\n",
        "            else:\n",
        "                print(\"Invalid bet amount. Enter a number greater than 0 and less than or equal to your balance.\")\n",
        "        else:\n",
        "            print(\"Please enter a valid number.\")\n",
        "\n",
        "    print(f\"Game over! Your final balance is ${balance}\")\n",
        "\n",
        "# Entry point of the program\n",
        "if __name__ == \"__main__\":\n",
        "    slot_machine()\n"
      ]
    }
  ]
}