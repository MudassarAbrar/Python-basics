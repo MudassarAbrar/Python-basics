{
  "nbformat": 4,
  "nbformat_minor": 0,
  "metadata": {
    "colab": {
      "provenance": [],
      "authorship_tag": "ABX9TyMwFEqac9YGxG/7+BimT+JY",
      "include_colab_link": true
    },
    "kernelspec": {
      "name": "python3",
      "display_name": "Python 3"
    },
    "language_info": {
      "name": "python"
    }
  },
  "cells": [
    {
      "cell_type": "markdown",
      "metadata": {
        "id": "view-in-github",
        "colab_type": "text"
      },
      "source": [
        "<a href=\"https://colab.research.google.com/github/MudassarAbrar/Python-basics/blob/main/Functions/BANKING_SYSTEM_PROGRAM.ipynb\" target=\"_parent\"><img src=\"https://colab.research.google.com/assets/colab-badge.svg\" alt=\"Open In Colab\"/></a>"
      ]
    },
    {
      "cell_type": "code",
      "execution_count": null,
      "metadata": {
        "colab": {
          "base_uri": "https://localhost:8080/"
        },
        "id": "pol3Fmpv69nT",
        "outputId": "cffcb4b2-03c3-468a-e7ae-68b530220a44"
      },
      "outputs": [
        {
          "output_type": "stream",
          "name": "stdout",
          "text": [
            "*******************\n",
            "BANKING PROGRAM\n",
            "*******************\n",
            "1. CHECK BALANCE\n",
            "2. CASH DEPOSIT\n",
            "3. CASH WITHDRAWAL\n",
            "4. EXIT\n",
            "ENTER YOUR OPTION (1-4): 2\n",
            "ENTER THE DEPOSIT AMOUNT: 50000\n",
            "*******************\n",
            "BANKING PROGRAM\n",
            "*******************\n",
            "1. CHECK BALANCE\n",
            "2. CASH DEPOSIT\n",
            "3. CASH WITHDRAWAL\n",
            "4. EXIT\n",
            "ENTER YOUR OPTION (1-4): 1\n",
            "******************************\n",
            "YOUR BALANCE IS $50000.00\n",
            "******************************\n",
            "*******************\n",
            "BANKING PROGRAM\n",
            "*******************\n",
            "1. CHECK BALANCE\n",
            "2. CASH DEPOSIT\n",
            "3. CASH WITHDRAWAL\n",
            "4. EXIT\n",
            "ENTER YOUR OPTION (1-4): 3\n",
            "ENTER THE AMOUNT YOU WANT TO WITHDRAW: 56\n",
            "*******************\n",
            "BANKING PROGRAM\n",
            "*******************\n",
            "1. CHECK BALANCE\n",
            "2. CASH DEPOSIT\n",
            "3. CASH WITHDRAWAL\n",
            "4. EXIT\n",
            "ENTER YOUR OPTION (1-4): 4\n",
            "************************************\n",
            "THANKS FOR VISITING! HAVE A NICE DAY!\n",
            "************************************\n"
          ]
        }
      ],
      "source": [
        "def show_balance(balance):\n",
        "    print(\"******************************\")\n",
        "    print(f\"YOUR BALANCE IS ${balance:.2f}\")\n",
        "    print(\"******************************\")\n",
        "    return balance\n",
        "\n",
        "def deposit():\n",
        "    deposit_amount = float(input(\"ENTER THE DEPOSIT AMOUNT: \"))\n",
        "    if deposit_amount <= 0:\n",
        "        print(\"You cannot deposit a negative or zero amount.\")\n",
        "        return 0\n",
        "    else:\n",
        "        return deposit_amount\n",
        "\n",
        "def withdraw(balance):\n",
        "    amount = float(input(\"ENTER THE AMOUNT YOU WANT TO WITHDRAW: \"))\n",
        "    if amount > balance or amount <= 0:\n",
        "        print(\"INSUFFICIENT BALANCE OR INVALID AMOUNT!\")\n",
        "        return 0\n",
        "    else:\n",
        "        return amount\n",
        "\n",
        "def main():\n",
        "    is_running = True\n",
        "    balance = 0  # Initialize balance\n",
        "    while is_running:\n",
        "        print(\"*******************\")\n",
        "        print(\"BANKING PROGRAM\")\n",
        "        print(\"*******************\")\n",
        "        print(\"1. CHECK BALANCE\")\n",
        "        print(\"2. CASH DEPOSIT\")\n",
        "        print(\"3. CASH WITHDRAWAL\")\n",
        "        print(\"4. EXIT\")\n",
        "        choice = input(\"ENTER YOUR OPTION (1-4): \")\n",
        "\n",
        "        match choice:\n",
        "            case \"1\":\n",
        "                show_balance(balance)\n",
        "            case \"2\":\n",
        "                balance += deposit()\n",
        "            case \"3\":\n",
        "                balance -= withdraw(balance)\n",
        "            case \"4\":\n",
        "                is_running = False\n",
        "            case _:\n",
        "                print(\"INVALID INPUT! PLEASE ENTER A NUMBER BETWEEN 1 AND 4.\")\n",
        "    print(\"************************************\")\n",
        "    print(\"THANKS FOR VISITING! HAVE A NICE DAY!\")\n",
        "    print(\"************************************\")\n",
        "if __name__ == \"__main__\":\n",
        "    main()\n"
      ]
    }
  ]
}