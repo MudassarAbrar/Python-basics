{
  "nbformat": 4,
  "nbformat_minor": 0,
  "metadata": {
    "colab": {
      "provenance": [],
      "authorship_tag": "ABX9TyMd2jIb5onz7hCWHdxBrRzu",
      "include_colab_link": true
    },
    "kernelspec": {
      "name": "python3",
      "display_name": "Python 3"
    },
    "language_info": {
      "name": "python"
    }
  },
  "cells": [
    {
      "cell_type": "markdown",
      "metadata": {
        "id": "view-in-github",
        "colab_type": "text"
      },
      "source": [
        "<a href=\"https://colab.research.google.com/github/MudassarAbrar/Python-basics/blob/main/RANDOM/NUMBER_GUESSING_GAME.ipynb\" target=\"_parent\"><img src=\"https://colab.research.google.com/assets/colab-badge.svg\" alt=\"Open In Colab\"/></a>"
      ]
    },
    {
      "cell_type": "code",
      "source": [
        "#NUMBER GUESSING GAME USING RANDOM METHOD\n",
        "print(\"---------NUMBER GUESSING GAME----------\")\n",
        "import random\n",
        "number_of_guesses=0\n",
        "while True:\n",
        " lowest_limit=int(input(\"Enter the lowest limit: \"))\n",
        " highest_limit=int(input(\"Enter the highest limit: \"))\n",
        " if lowest_limit>highest_limit  :\n",
        "    print(\"Invalid limit\")\n",
        " else:\n",
        "  break\n",
        "random_number=random.randint(lowest_limit,highest_limit)\n",
        "while True:\n",
        "  user_guess=int(input(\"Enter your guess: \"))\n",
        "  number_of_guesses+=1\n",
        "  if user_guess>highest_limit or user_guess<lowest_limit :\n",
        "    print(\"Invalid guess\")\n",
        "    print(\"GUESS AGAIN\")\n",
        "  elif user_guess>random_number:\n",
        "    print(\"Your guess is too high\")\n",
        "  elif user_guess<random_number:\n",
        "    print(\"Your guess is too low\")\n",
        "  elif user_guess==random_number:\n",
        "    print(\"You guessed it right\")\n",
        "    print(\"--------------YOUR RESULT---------------\")\n",
        "    print(  \"Number of guesses: \",number_of_guesses)\n",
        "    if number_of_guesses<5:\n",
        "\n",
        "      print(\"🎉 YOU WON! Great job!\")\n",
        "    else:\n",
        "      print(\"😞 YOU LOSE! Better luck next time.\")\n",
        "    break"
      ],
      "metadata": {
        "colab": {
          "base_uri": "https://localhost:8080/"
        },
        "id": "AwexqEFhEdi2",
        "outputId": "86ca96df-2c53-4ef6-fc36-4d04a1df6d75"
      },
      "execution_count": 23,
      "outputs": [
        {
          "output_type": "stream",
          "name": "stdout",
          "text": [
            "---------NUMBER GUESSING GAME----------\n",
            "Enter the lowest limit: 1000\n",
            "Enter the highest limit: 10000\n",
            "Enter your guess: 10001\n",
            "Invalid guess\n",
            "GUESS AGAIN\n",
            "Enter your guess: 1001\n",
            "Your guess is too low\n",
            "Enter your guess: 2000\n",
            "Your guess is too low\n",
            "Enter your guess: 3000\n",
            "Your guess is too low\n",
            "Enter your guess: 5000\n",
            "Your guess is too low\n",
            "Enter your guess: 7000\n",
            "Your guess is too high\n",
            "Enter your guess: 6000\n",
            "Your guess is too low\n",
            "Enter your guess: 6500\n",
            "Your guess is too low\n",
            "Enter your guess: 6800\n",
            "Your guess is too high\n",
            "Enter your guess: 6700\n",
            "Your guess is too low\n",
            "Enter your guess: 6770\n",
            "Your guess is too high\n",
            "Enter your guess: 6750\n",
            "Your guess is too high\n",
            "Enter your guess: 6740\n",
            "Your guess is too low\n",
            "Enter your guess: 6744\n",
            "Your guess is too high\n",
            "Enter your guess: 6742\n",
            "Your guess is too high\n",
            "Enter your guess: 6741\n",
            "You guessed it right\n",
            "--------------YOUR RESULT---------------\n",
            "Number of guesses:  16\n",
            "😞 YOU LOSE! Better luck next time.\n"
          ]
        }
      ]
    }
  ]
}