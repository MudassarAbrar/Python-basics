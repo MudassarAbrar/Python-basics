{
  "nbformat": 4,
  "nbformat_minor": 0,
  "metadata": {
    "colab": {
      "provenance": [],
      "authorship_tag": "ABX9TyPAMA1ECwk0tGy46yLe2ybe",
      "include_colab_link": true
    },
    "kernelspec": {
      "name": "python3",
      "display_name": "Python 3"
    },
    "language_info": {
      "name": "python"
    }
  },
  "cells": [
    {
      "cell_type": "markdown",
      "metadata": {
        "id": "view-in-github",
        "colab_type": "text"
      },
      "source": [
        "<a href=\"https://colab.research.google.com/github/MudassarAbrar/Python-basics/blob/main/RANDOM/ROCK_PAPER_SCISSOR_GAME.ipynb\" target=\"_parent\"><img src=\"https://colab.research.google.com/assets/colab-badge.svg\" alt=\"Open In Colab\"/></a>"
      ]
    },
    {
      "cell_type": "code",
      "source": [
        "#this program uses the random.CHOICE method to shuffle the predefined tuple\n",
        "import random\n",
        "content=(\"ROCK\",\"PAPER\",\"SCISSOR\")\n",
        "print(\"----------------Welcome to the GAME-------------------\")\n",
        "person=random.choice(content)\n",
        "computer=random.choice(content)\n",
        "print(f\"PERSON: {person}\")\n",
        "print(f\"COMPUTER: {computer}\")\n",
        "print(\"--------------------------------------------\")\n",
        "if person==computer:\n",
        "    print(\"\\t\\tDRAW\")\n",
        "elif person==\"ROCK\" and computer==\"SCISSOR\":\n",
        "    print(\"\\t\\tPERSON WINS\")\n",
        "elif person==\"PAPER\" and computer==\"ROCK\":\n",
        "    print(\"\\t\\tPERSON WINS\")\n",
        "elif person==\"SCISSOR\" and computer==\"PAPER\":\n",
        "    print(\"\\t\\tPERSON WINS\")\n",
        "else:\n",
        "    print(\"\\t\\tCOMPUTER WINS\")\n",
        "print(\"--------------------------------------------\")"
      ],
      "metadata": {
        "colab": {
          "base_uri": "https://localhost:8080/"
        },
        "id": "ExZMaA4LOhzm",
        "outputId": "632d3ea6-fd6a-48c0-b46a-79049f84e228"
      },
      "execution_count": 38,
      "outputs": [
        {
          "output_type": "stream",
          "name": "stdout",
          "text": [
            "----------------Welcome to the GAME-------------------\n",
            "PERSON: PAPER\n",
            "COMPUTER: ROCK\n",
            "--------------------------------------------\n",
            "\t\tPERSON WINS\n",
            "--------------------------------------------\n"
          ]
        }
      ]
    }
  ]
}