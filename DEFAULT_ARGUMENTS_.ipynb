{
  "nbformat": 4,
  "nbformat_minor": 0,
  "metadata": {
    "colab": {
      "provenance": [],
      "authorship_tag": "ABX9TyPKGW7zV8RkEaaD7Fse4zI6",
      "include_colab_link": true
    },
    "kernelspec": {
      "name": "python3",
      "display_name": "Python 3"
    },
    "language_info": {
      "name": "python"
    }
  },
  "cells": [
    {
      "cell_type": "markdown",
      "metadata": {
        "id": "view-in-github",
        "colab_type": "text"
      },
      "source": [
        "<a href=\"https://colab.research.google.com/github/MudassarAbrar/Python-basics/blob/main/DEFAULT_ARGUMENTS_.ipynb\" target=\"_parent\"><img src=\"https://colab.research.google.com/assets/colab-badge.svg\" alt=\"Open In Colab\"/></a>"
      ]
    },
    {
      "cell_type": "code",
      "execution_count": 3,
      "metadata": {
        "colab": {
          "base_uri": "https://localhost:8080/"
        },
        "id": "FnaDLWQ-U4Gx",
        "outputId": "9fa051d9-a8b4-4a44-b688-1afd000a85e5"
      },
      "outputs": [
        {
          "output_type": "stream",
          "name": "stdout",
          "text": [
            "525.0\n",
            "525.0\n",
            "450.0\n"
          ]
        }
      ],
      "source": [
        "#default arguments are those arguments that we make or set in the definition of the fucntions and\n",
        "#as a result it reduces the number of argemunets that we need to pass while calling the fucntion\n",
        "# ;like\n",
        "def net_price(list_price,discount,tax):\n",
        " return list_price*(1-discount)*(1+tax)\n",
        "print(net_price(500,0,0.05))#in this case the prie is 500 and discount is 0 and tax is 5 percent so in most of the cases let its alwasy 0,0.05\n",
        "#thus we set thevalue of dicscount and tax in the def of fucntion hence they are called a s default arguemnt\n",
        "def net_price(list_price,discount=0,tax=0.05):\n",
        " return list_price*(1-discount)*(1+tax)\n",
        "print(net_price(500))\n",
        "# but still we can pas all the arguments like discount=10 or tax =0\n",
        "print(net_price(500,0.1,0))"
      ]
    }
  ]
}