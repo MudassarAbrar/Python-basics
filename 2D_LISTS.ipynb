{
  "nbformat": 4,
  "nbformat_minor": 0,
  "metadata": {
    "colab": {
      "provenance": [],
      "authorship_tag": "ABX9TyPAFaSecLGpBRv3WuvUeLur",
      "include_colab_link": true
    },
    "kernelspec": {
      "name": "python3",
      "display_name": "Python 3"
    },
    "language_info": {
      "name": "python"
    }
  },
  "cells": [
    {
      "cell_type": "markdown",
      "metadata": {
        "id": "view-in-github",
        "colab_type": "text"
      },
      "source": [
        "<a href=\"https://colab.research.google.com/github/MudassarAbrar/Python-basics/blob/main/2D_LISTS.ipynb\" target=\"_parent\"><img src=\"https://colab.research.google.com/assets/colab-badge.svg\" alt=\"Open In Colab\"/></a>"
      ]
    },
    {
      "cell_type": "code",
      "execution_count": 2,
      "metadata": {
        "colab": {
          "base_uri": "https://localhost:8080/"
        },
        "id": "pNqJDc01WAxT",
        "outputId": "f70463ba-7f3a-471e-c63d-80144700d1fa"
      },
      "outputs": [
        {
          "output_type": "stream",
          "name": "stdout",
          "text": [
            "[['mudassir', 'hamad', 'abrar'], [20, 20, 50], ['std', 'std', 'dad']]\n"
          ]
        }
      ],
      "source": [
        "#a list consisting of one more list is called as a 2d list the lists in the list acts as rows of the matrix\n",
        "#a list can also have tuples in it\n",
        "#there could be 2d tuples\n",
        "#there couldbe a set in tuple or a list too\n",
        "#here an example of 2d list\n",
        "name=[\"mudassir\",\"hamad\",\"abrar\"]\n",
        "age=[20,20,50]\n",
        "job=[\"std\",\"std\",\"dad\"]\n",
        "info=[name,age,job]\n",
        "print(info)"
      ]
    },
    {
      "cell_type": "code",
      "source": [
        "#we can also write the entire list in the main list and it will work the same\n",
        "info=[[\"mudassir\",\"hamad\",\"abrar\"],[20,20,50],[\"std\",\"std\",\"dad\"]]\n",
        "print(info)"
      ],
      "metadata": {
        "colab": {
          "base_uri": "https://localhost:8080/"
        },
        "id": "8hKv-e2PXhnb",
        "outputId": "aa0985c8-2c97-4fb7-8352-d678a0fd60a1"
      },
      "execution_count": 5,
      "outputs": [
        {
          "output_type": "stream",
          "name": "stdout",
          "text": [
            "[['mudassir', 'hamad', 'abrar'], [20, 20, 50], ['std', 'std', 'dad']]\n"
          ]
        }
      ]
    },
    {
      "cell_type": "code",
      "source": [
        "#printing 2d list using for loop to iterate over each element of each list\n",
        "for i in info:\n",
        "    for j in i:\n",
        "        print(j)"
      ],
      "metadata": {
        "colab": {
          "base_uri": "https://localhost:8080/"
        },
        "id": "GXkV93U5XGYU",
        "outputId": "fa24c98c-51e4-4b84-df2b-59e0cd6e3715"
      },
      "execution_count": 3,
      "outputs": [
        {
          "output_type": "stream",
          "name": "stdout",
          "text": [
            "mudassir\n",
            "hamad\n",
            "abrar\n",
            "20\n",
            "20\n",
            "50\n",
            "std\n",
            "std\n",
            "dad\n"
          ]
        }
      ]
    },
    {
      "cell_type": "code",
      "source": [
        "#printing 2d list using for loop to iterate over each list\n",
        "for i in info:\n",
        "    print(i)"
      ],
      "metadata": {
        "colab": {
          "base_uri": "https://localhost:8080/"
        },
        "id": "QGtOuKoDXRZb",
        "outputId": "66c82083-b252-49c8-e96d-e68c2c1be899"
      },
      "execution_count": 4,
      "outputs": [
        {
          "output_type": "stream",
          "name": "stdout",
          "text": [
            "['mudassir', 'hamad', 'abrar']\n",
            "[20, 20, 50]\n",
            "['std', 'std', 'dad']\n"
          ]
        }
      ]
    },
    {
      "cell_type": "code",
      "source": [
        "#PROJECT\n",
        "#making a telephone num pad using 2d tuple we can also use use 2d list but tuples are faster but wecant use sets as they\n",
        "#are unorderd\n",
        "num_pad=((1,2,3),\n",
        "         (4,5,6),\n",
        "         (7,8,9),\n",
        "         (\"*\",0,\"#\"))\n",
        "for i in num_pad:#using for outer loop to iterate over each list\n",
        "    for j in i:#using for inner loop to iterate over each element of each list\n",
        "        print(j,end=\" \")#this line prints a space in each list's element print\n",
        "    print()#this line will \\n for each list"
      ],
      "metadata": {
        "colab": {
          "base_uri": "https://localhost:8080/"
        },
        "id": "pUxVMNYRXoy8",
        "outputId": "a96882c7-6f67-42ba-8ac8-80a1f4a2c9d9"
      },
      "execution_count": 7,
      "outputs": [
        {
          "output_type": "stream",
          "name": "stdout",
          "text": [
            "1 2 3 \n",
            "4 5 6 \n",
            "7 8 9 \n",
            "* 0 # \n"
          ]
        }
      ]
    }
  ]
}