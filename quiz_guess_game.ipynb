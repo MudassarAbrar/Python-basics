{
  "nbformat": 4,
  "nbformat_minor": 0,
  "metadata": {
    "colab": {
      "provenance": [],
      "authorship_tag": "ABX9TyPRXe/JnqUBYxJLkEmU72jL",
      "include_colab_link": true
    },
    "kernelspec": {
      "name": "python3",
      "display_name": "Python 3"
    },
    "language_info": {
      "name": "python"
    }
  },
  "cells": [
    {
      "cell_type": "markdown",
      "metadata": {
        "id": "view-in-github",
        "colab_type": "text"
      },
      "source": [
        "<a href=\"https://colab.research.google.com/github/MudassarAbrar/Python-basics/blob/main/quiz_guess_game.ipynb\" target=\"_parent\"><img src=\"https://colab.research.google.com/assets/colab-badge.svg\" alt=\"Open In Colab\"/></a>"
      ]
    },
    {
      "cell_type": "code",
      "source": [
        "#IN THIS PROJECT IM GOING TOMAKE A QUIZ GAME IN WHICH I DISPLAY COUPLE OF QUESTIONS ALONG\n",
        "#WITH THEIR OPTIONS THE ILL PROMPT THE USER TO ENETER THE CORRECT ANSWER AND THEN ILL PRINT THE FINAL SCORE\n",
        "questions = (\n",
        "    \"1: WHAT IS THE CAPITAL OF PAKISTAN: \",\n",
        "    \"2: WHO IS QUID-E-AZAM:\",\n",
        "    \"3: WHEN DID PAKISTAN COME INTO EXISTENCE:\",\n",
        "    \"4: WHO IS FATIMAH JINNAH:\",\n",
        "    \"5: WHO IS ALLAMA MUHAMMAD IQBAL:\"\n",
        ")  # Tuple to store questions\n",
        "\n",
        "options = (\n",
        "    (\"A. Islamabad\", \"B. Karachi\", \"C. Lahore\", \"D. Peshawar\"),\n",
        "    (\"A. Fatima Jinnah\", \"B. Allama Iqbal\", \"C. Liaquat Ali Khan\", \"D. Father of Nation\"),\n",
        "    (\"A. 1949\", \"B. 1948\", \"C. 1947\", \"D. 1950\"),\n",
        "    (\"A. Mother of the Nation\", \"B. Sister of the Nation\", \"C. Daughter of the Nation\", \"D. Wife of the Nation\"),\n",
        "    (\"A. National Villain\", \"B. National Poet\", \"C. National Leader\", \"D. National Father\")\n",
        ")  # 2D tuple for options of each question\n",
        "\n",
        "correct_answers = (\"A\", \"D\", \"C\", \"A\", \"B\")  # Correct answers\n",
        "user_answers = []  # List to store user answers\n",
        "score = 0\n",
        "\n",
        "# Loop through the questions\n",
        "for question_no, question in enumerate(questions):\n",
        "    print(\"-------------------------------------------\")\n",
        "    print(question)\n",
        "    print(\"-------------------------------------------\")\n",
        "\n",
        "    # Display the options for the current question\n",
        "    for option in options[question_no]:\n",
        "        print(option)\n",
        "\n",
        "    # Get user input\n",
        "    user_answer = input(\"Enter your answer: \").upper()\n",
        "    while user_answer not in (\"A\", \"B\", \"C\", \"D\"):\n",
        "        print(\"INVALID INPUT\\nChoose from the given options\")\n",
        "        user_answer = input(\"Enter your answer: \").upper()\n",
        "\n",
        "    # Append the user's answer to the list\n",
        "    user_answers.append(user_answer)\n",
        "\n",
        "    # Check if the answer is correct\n",
        "    if user_answer == correct_answers[question_no]:\n",
        "        print(f\"{user_answer} is the correct answer\")\n",
        "        score += 1\n",
        "    else:\n",
        "        print(f\"INCORRECT\\n{correct_answers[question_no]} is the correct answer\")\n",
        "\n",
        "# Display the final results\n",
        "print(\"-------------------------------------------\")\n",
        "print(f\"CORRECT ANSWERS ARE {correct_answers}\")\n",
        "print(f\"YOUR ANSWERS ARE {tuple(user_answers)}\")\n",
        "print(\"-------------------------------------------\")\n",
        "print(\"|            YOUR FINAL SCORE             |\")\n",
        "print(\"-------------------------------------------\")\n",
        "print(f\"    YOUR SCORE IS {score / len(questions) * 100:.2f}%\")\n",
        "if (score / len(questions) * 100) > 80:\n",
        "    print(\"CONGRATULATIONS YOU PASSED!\")\n",
        "else:\n",
        "    print(\"YOU FAILED. BETTER LUCK NEXT TIME!\")\n"
      ],
      "metadata": {
        "id": "8f5K5agv-a8o"
      },
      "execution_count": null,
      "outputs": []
    },
    {
      "cell_type": "code",
      "source": [
        "#IN THIS PROJECT IM GOING TOMAKE A QUIZ GAME IN WHICH I DISPLAY COUPLE OF QUESTIONS ALONG\n",
        "#WITH THEIR OPTIONS THE ILL PROMPT THE USER TO ENETER THE CORRECT ANSWER AND THEN ILL PRINT THE FINAL SCORE\n",
        "#IN THIS PROJECT IM GOING TOMAKE A QUIZ GAME IN WHICH I DISPLAY COUPLE OF QUESTIONS ALONG\n",
        "#WITH THEIR OPTIONS THE ILL PROMPT THE USER TO ENETER THE CORRECT ANSWER AND THEN ILL PRINT THE FINAL SCORE\n",
        "questions=(\"1: WHAT IS THE CAPITAL OF PAKISTAN: \",\n",
        "          \"2: WHO IS QUID-E-AZAM:\",\n",
        "          \"3: WHEN DID PAKISTAN COME INTO EXISTENCE:\",\n",
        "          \"4: WHO IS FATIMAH JINNAH:\",\n",
        "          \"5: WHO IS ALLAMA MUHAMMAD IQBAL:\")#a tuple to print all the questions\n",
        "\n",
        "options= ((\"A. Islamabad\", \"B. Karachi\", \"C. Lahore\", \"D. Peshawar\"),\n",
        "         (\"A. Fatima Jinnah\", \"B. Allama Iqbal\", \"C. Liaquat Ali Khan\", \"D. Father of Nation\"),\n",
        "         (\"A. 1949\", \"B. 1948\", \"C. 1947\", \"D. 1950\"),\n",
        "         (\"A. Mother of the Nation\", \"B. Sister of the Nation\", \"C. Daughter of the Nation\", \"D. Wife of the Nation\"),\n",
        "         (\"A. National Villain\", \"B. National Poet\", \"C. National Leader\", \"D. National Father\"))\n",
        "#2d tuple for option set  of each question\n",
        "correct_answers=(\"A\", \"D\", \"C\", \"A\", \"B\")#storing all the correct answers in the predined tuples\n",
        "user_answers=[]#using a list to store answrs of the user so that i can append the input in it\n",
        "score=0\n",
        "question_no=0\n",
        "for question in questions:\n",
        "  print(\"-------------------------------------------\")\n",
        "  print(question)\n",
        "  print(\"-------------------------------------------\")\n",
        "\n",
        "  for option in options[question_no]:\n",
        "    print(option)\n",
        "\n",
        "    user_answer=input(\"Enter your answer: \").upper()\n",
        "    while user_answer not in (\"A\", \"B\", \"C\", \"D\"):\n",
        "     print(\"INVALID INPUT\\nChoose from the given options\")\n",
        "     user_answer=input(\"Enter your answer: \").upper()\n",
        "    if user_answer in (\"A\", \"B\", \"C\", \"D\"):\n",
        "       user_answers.append(user_answer)\n",
        "      break\n",
        "\n",
        "\n",
        "  if user_answer==correct_answers[question_no]:\n",
        "    print(f\"{user_answers[question_no]} is the correct answer\")\n",
        "    score+=1\n",
        "  else:\n",
        "    print(f\"INCORRECT\\n{correct_answers[question_no]} is the correct answer\")\n",
        "  question_no+=1\n",
        "print(\"-------------------------------------------\")\n",
        "print(f\"CORRECT ANSWERS ARE {correct_answers}\")\n",
        "print(f\"YOUR ANSWERS ARE {user_answers}\")\n",
        "print(\"-------------------------------------------\")\n",
        "print(\"|            YOUR FINAL SCORE             |\")\n",
        "print(\"-------------------------------------------\")\n",
        "print(f\"    YOUR SCORE IS {score/len(questions)*100}\")\n",
        "if (score/len(questions)*100) >80:\n",
        "  print(\"CONGRATULATIONS YOU ARE PASSED\")\n",
        "else:\n",
        "  print(\"YOU ARE FAILED\")"
      ],
      "metadata": {
        "id": "PjhSADbr-r24"
      },
      "execution_count": null,
      "outputs": []
    },
    {
      "cell_type": "code",
      "source": [],
      "metadata": {
        "id": "D03nrOvD_9nF"
      },
      "execution_count": null,
      "outputs": []
    }
  ]
}