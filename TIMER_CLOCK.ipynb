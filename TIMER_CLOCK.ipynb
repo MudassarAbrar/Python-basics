{
  "nbformat": 4,
  "nbformat_minor": 0,
  "metadata": {
    "colab": {
      "provenance": [],
      "authorship_tag": "ABX9TyMpmOB3cs9G7hzrNzuurq8p",
      "include_colab_link": true
    },
    "kernelspec": {
      "name": "python3",
      "display_name": "Python 3"
    },
    "language_info": {
      "name": "python"
    }
  },
  "cells": [
    {
      "cell_type": "markdown",
      "metadata": {
        "id": "view-in-github",
        "colab_type": "text"
      },
      "source": [
        "<a href=\"https://colab.research.google.com/github/MudassarAbrar/Python-basics/blob/main/TIMER_CLOCK.ipynb\" target=\"_parent\"><img src=\"https://colab.research.google.com/assets/colab-badge.svg\" alt=\"Open In Colab\"/></a>"
      ]
    },
    {
      "cell_type": "code",
      "source": [
        "import time\n",
        "time.sleep(10)\n",
        "print(\"times up\")"
      ],
      "metadata": {
        "colab": {
          "base_uri": "https://localhost:8080/"
        },
        "id": "NUzML6pnWKpO",
        "outputId": "a27ddde0-14f2-47e9-9cb0-9847bf832182"
      },
      "execution_count": 17,
      "outputs": [
        {
          "output_type": "stream",
          "name": "stdout",
          "text": [
            "times up\n"
          ]
        }
      ]
    },
    {
      "cell_type": "code",
      "source": [
        "#making a timer clock project\n",
        "import time\n",
        "user_time = int(input(\"enter the time in seconds: \"))\n",
        "for x in range(user_time,0,-1):\n",
        " seconds=x%60\n",
        " minutes=int(x/60)\n",
        " hours=int(x/3600)\n",
        "\n",
        " print(f\"{hours:02}:{minutes:02}:{seconds:02}\")\n",
        "\n",
        " time.sleep(1)\n",
        "print(\"TIMES UP\")"
      ],
      "metadata": {
        "colab": {
          "base_uri": "https://localhost:8080/"
        },
        "id": "2paNA4PKWuel",
        "outputId": "d79d8704-7576-45cb-8479-d5ed823e5d86"
      },
      "execution_count": 29,
      "outputs": [
        {
          "output_type": "stream",
          "name": "stdout",
          "text": [
            "enter the time in seconds: 2\n",
            "00:00:02\n",
            "00:00:01\n",
            "TIMES UP\n"
          ]
        }
      ]
    }
  ]
}