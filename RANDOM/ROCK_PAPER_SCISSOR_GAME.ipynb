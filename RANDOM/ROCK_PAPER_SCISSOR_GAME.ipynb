{
  "nbformat": 4,
  "nbformat_minor": 0,
  "metadata": {
    "colab": {
      "provenance": [],
      "authorship_tag": "ABX9TyN2YTLs6AynFWYet1eWr5Pd",
      "include_colab_link": true
    },
    "kernelspec": {
      "name": "python3",
      "display_name": "Python 3"
    },
    "language_info": {
      "name": "python"
    }
  },
  "cells": [
    {
      "cell_type": "markdown",
      "metadata": {
        "id": "view-in-github",
        "colab_type": "text"
      },
      "source": [
        "<a href=\"https://colab.research.google.com/github/MudassarAbrar/Python-basics/blob/main/RANDOM/ROCK_PAPER_SCISSOR_GAME.ipynb\" target=\"_parent\"><img src=\"https://colab.research.google.com/assets/colab-badge.svg\" alt=\"Open In Colab\"/></a>"
      ]
    },
    {
      "cell_type": "code",
      "source": [
        "import random\n",
        "\n",
        "# Dice shapes dictionary (ASCII art)\n",
        "dice_shapes = {\n",
        "    1: (\n",
        "        \"╔═════╗\",\n",
        "        \"║     ║\",\n",
        "        \"║  •  ║\",\n",
        "        \"║     ║\",\n",
        "        \"╚═════╝\"\n",
        "    ),\n",
        "    2: (\n",
        "        \"╔═════╗\",\n",
        "        \"║ •   ║\",\n",
        "        \"║     ║\",\n",
        "        \"║   • ║\",\n",
        "        \"╚═════╝\"\n",
        "    ),\n",
        "    3: (\n",
        "        \"╔═════╗\",\n",
        "        \"║ •   ║\",\n",
        "        \"║  •  ║\",\n",
        "        \"║   • ║\",\n",
        "        \"╚═════╝\"\n",
        "    ),\n",
        "    4: (\n",
        "        \"╔═════╗\",\n",
        "        \"║ • • ║\",\n",
        "        \"║     ║\",\n",
        "        \"║ • • ║\",\n",
        "        \"╚═════╝\"\n",
        "    ),\n",
        "    5: (\n",
        "        \"╔═════╗\",\n",
        "        \"║ • • ║\",\n",
        "        \"║  •  ║\",\n",
        "        \"║ • • ║\",\n",
        "        \"╚═════╝\"\n",
        "    ),\n",
        "    6: (\n",
        "        \"╔═════╗\",\n",
        "        \"║ • • ║\",\n",
        "        \"║ • • ║\",\n",
        "        \"║ • • ║\",\n",
        "        \"╚═════╝\"\n",
        "    )\n",
        "}\n",
        "\n",
        "# Program variables\n",
        "running = True\n",
        "dice = []\n",
        "\n",
        "# Main program loop\n",
        "while running:\n",
        "    total = 0\n",
        "\n",
        "    # Prompt user for the number of dice\n",
        "    number = int(input(\"SELECT THE NUMBER OF DICE YOU WANT TO USE: \"))\n",
        "    if number <= 0 or number > 10:\n",
        "        print(\"You can't select more than 10 dice.\")\n",
        "    else:\n",
        "        # Roll the dice and store their values\n",
        "        for _ in range(number):\n",
        "            dice.append(random.randint(1, 6))\n",
        "\n",
        "        # Print the dice in a horizontal line\n",
        "        for i in range(5):  # There are 5 rows in each dice face\n",
        "            for die in dice:\n",
        "                print(dice_shapes[die][i], end=\"  \")  # Print each row of the dice side by side\n",
        "            print()  # Move to the next row\n",
        "\n",
        "        # Calculate total\n",
        "        total = sum(dice)\n",
        "        print(f\"\\nYOUR TOTAL IS: {total}\")\n",
        "\n",
        "        # Ask if the user wants to roll again\n",
        "        if input(\"DO YOU WANT TO ROLL AGAIN (y/n): \").strip().lower() != 'y':\n",
        "            running = False\n",
        "\n",
        "        # Clear the dice list for the next roll\n",
        "        dice.clear()\n"
      ],
      "metadata": {
        "colab": {
          "base_uri": "https://localhost:8080/"
        },
        "id": "ExZMaA4LOhzm",
        "outputId": "f9b0f81e-316a-4faa-84ee-295435afdf40"
      },
      "execution_count": null,
      "outputs": [
        {
          "output_type": "stream",
          "name": "stdout",
          "text": [
            "SELECT THE NUMBER OF DICE YOU WANT TO USE: 2\n",
            "╔═════╗  ╔═════╗  \n",
            "║ • • ║  ║ •   ║  \n",
            "║ • • ║  ║  •  ║  \n",
            "║ • • ║  ║   • ║  \n",
            "╚═════╝  ╚═════╝  \n",
            "\n",
            "YOUR TOTAL IS: 9\n"
          ]
        }
      ]
    }
  ]
}